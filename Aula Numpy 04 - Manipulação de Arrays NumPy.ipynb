{
 "cells": [
  {
   "cell_type": "markdown",
   "metadata": {},
   "source": [
    "# Manipulação de arrays Numpy"
   ]
  },
  {
   "cell_type": "markdown",
   "metadata": {},
   "source": [
    "### Importando o NumPy"
   ]
  },
  {
   "cell_type": "code",
   "execution_count": 1,
   "metadata": {},
   "outputs": [],
   "source": [
    "# Importando o NumPy\n",
    "import numpy as np"
   ]
  },
  {
   "cell_type": "markdown",
   "metadata": {},
   "source": [
    "### Alterando, adicionando e removendo elementos"
   ]
  },
  {
   "cell_type": "code",
   "execution_count": 2,
   "metadata": {},
   "outputs": [
    {
     "data": {
      "text/plain": [
       "array([ 90,  63,  33, 142,  59, 199, 173, 156, 198, 195, 185, 104])"
      ]
     },
     "execution_count": 2,
     "metadata": {},
     "output_type": "execute_result"
    }
   ],
   "source": [
    "# Criando um array de 1 dimensão\n",
    "a1D = np.random.randint(1,200, 12)\n",
    "a1D"
   ]
  },
  {
   "cell_type": "code",
   "execution_count": 3,
   "metadata": {},
   "outputs": [
    {
     "data": {
      "text/plain": [
       "array([[124,  67, 192,  81],\n",
       "       [155,   1, 126,  48],\n",
       "       [131,  96,  74,  54]])"
      ]
     },
     "execution_count": 3,
     "metadata": {},
     "output_type": "execute_result"
    }
   ],
   "source": [
    "# Criando um array de 2 dimensões\n",
    "a2D = np.random.randint(1,200, (3,4))\n",
    "a2D"
   ]
  },
  {
   "cell_type": "code",
   "execution_count": 4,
   "metadata": {},
   "outputs": [
    {
     "data": {
      "text/plain": [
       "array([[[147,  34, 188, 188, 177,  88],\n",
       "        [118,  98,  76, 113, 164,  86],\n",
       "        [108,  25, 129, 177,  68,   5]],\n",
       "\n",
       "       [[ 34,  51,  39, 181, 173,  96],\n",
       "        [ 58,  21,  20,  25,  30, 103],\n",
       "        [  9,  99, 122, 140,   8,   3]]])"
      ]
     },
     "execution_count": 4,
     "metadata": {},
     "output_type": "execute_result"
    }
   ],
   "source": [
    "# Criando um array de 3 dimensões\n",
    "a3D = np.random.randint(1,200, (2,3,6)) # 2 páginas/faces, 3 linhas, 6 colunas\n",
    "a3D"
   ]
  },
  {
   "cell_type": "code",
   "execution_count": 5,
   "metadata": {},
   "outputs": [
    {
     "data": {
      "text/plain": [
       "array([ -1,  63,  33, 142,  59, 199, 173, 156, 198, 195, 185, 104])"
      ]
     },
     "execution_count": 5,
     "metadata": {},
     "output_type": "execute_result"
    }
   ],
   "source": [
    "# Alterando o elemento do índice 0\n",
    "a1D[0] = -1\n",
    "a1D"
   ]
  },
  {
   "cell_type": "code",
   "execution_count": 6,
   "metadata": {},
   "outputs": [
    {
     "data": {
      "text/plain": [
       "array([[124,  67, 192,  81],\n",
       "       [155,   1,  -1,  48],\n",
       "       [131,  96,  74,  54]])"
      ]
     },
     "execution_count": 6,
     "metadata": {},
     "output_type": "execute_result"
    }
   ],
   "source": [
    "# Alterando o elemento da linha 1, coluna 2\n",
    "a2D[1][2] = -1\n",
    "a2D"
   ]
  },
  {
   "cell_type": "code",
   "execution_count": 7,
   "metadata": {},
   "outputs": [
    {
     "data": {
      "text/plain": [
       "array([[[147,  34, 188, 188, 177,  88],\n",
       "        [118,  98,  76, 113, 164,  86],\n",
       "        [108,  25, 129, 177,  68,   5]],\n",
       "\n",
       "       [[ 34,  51,  39, 181, 173,  96],\n",
       "        [ 58,  21,  20,  25,  30, 103],\n",
       "        [  9,  99, 122, 140,  -1,   3]]])"
      ]
     },
     "execution_count": 7,
     "metadata": {},
     "output_type": "execute_result"
    }
   ],
   "source": [
    "# Alterando o elemento da face 1, linha 2, coluna 4\n",
    "a3D[1][2][4] = -1\n",
    "a3D"
   ]
  },
  {
   "cell_type": "code",
   "execution_count": 8,
   "metadata": {},
   "outputs": [
    {
     "data": {
      "text/plain": [
       "array([ -1,  63,  33, 142,  59, 199, 173, 156, 198, 195, 185, 104, 100,\n",
       "       130])"
      ]
     },
     "execution_count": 8,
     "metadata": {},
     "output_type": "execute_result"
    }
   ],
   "source": [
    "# Retorna array com elementos adicionados no final\n",
    "a1D_modificado = np.append(a1D, [100, 130])\n",
    "a1D_modificado"
   ]
  },
  {
   "cell_type": "code",
   "execution_count": 9,
   "metadata": {},
   "outputs": [
    {
     "data": {
      "text/plain": [
       "array([ -1,  63,  33, 142,  59, 199, 173, 156, 198, 195, 185, 104])"
      ]
     },
     "execution_count": 9,
     "metadata": {},
     "output_type": "execute_result"
    }
   ],
   "source": [
    "a1D # a1D não foi modificado"
   ]
  },
  {
   "cell_type": "code",
   "execution_count": 10,
   "metadata": {},
   "outputs": [
    {
     "data": {
      "text/plain": [
       "array([124,  67, 192,  81, 155,   1,  -1,  48, 131,  96,  74,  54, 100,\n",
       "       130])"
      ]
     },
     "execution_count": 10,
     "metadata": {},
     "output_type": "execute_result"
    }
   ],
   "source": [
    "a2D_modificado = np.append(a2D, [100, 130]) # Lineariza a2D e insere os elementos no final\n",
    "a2D_modificado"
   ]
  },
  {
   "cell_type": "code",
   "execution_count": 11,
   "metadata": {},
   "outputs": [
    {
     "data": {
      "text/plain": [
       "array([[124,  67, 192,  81],\n",
       "       [155,   1,  -1,  48],\n",
       "       [131,  96,  74,  54]])"
      ]
     },
     "execution_count": 11,
     "metadata": {},
     "output_type": "execute_result"
    }
   ],
   "source": [
    "a2D # a2D não foi modificado"
   ]
  },
  {
   "cell_type": "code",
   "execution_count": 12,
   "metadata": {},
   "outputs": [
    {
     "data": {
      "text/plain": [
       "array([147,  34, 188, 188, 177,  88, 118,  98,  76, 113, 164,  86, 108,\n",
       "        25, 129, 177,  68,   5,  34,  51,  39, 181, 173,  96,  58,  21,\n",
       "        20,  25,  30, 103,   9,  99, 122, 140,  -1,   3, 100, 130])"
      ]
     },
     "execution_count": 12,
     "metadata": {},
     "output_type": "execute_result"
    }
   ],
   "source": [
    "a3D_modificado = np.append(a3D, [100, 130]) # Lineariza a3D e insere os elementos no final\n",
    "a3D_modificado"
   ]
  },
  {
   "cell_type": "code",
   "execution_count": 13,
   "metadata": {},
   "outputs": [
    {
     "data": {
      "text/plain": [
       "array([[[147,  34, 188, 188, 177,  88],\n",
       "        [118,  98,  76, 113, 164,  86],\n",
       "        [108,  25, 129, 177,  68,   5]],\n",
       "\n",
       "       [[ 34,  51,  39, 181, 173,  96],\n",
       "        [ 58,  21,  20,  25,  30, 103],\n",
       "        [  9,  99, 122, 140,  -1,   3]]])"
      ]
     },
     "execution_count": 13,
     "metadata": {},
     "output_type": "execute_result"
    }
   ],
   "source": [
    "a3D # a3D não foi modificado"
   ]
  },
  {
   "cell_type": "code",
   "execution_count": 14,
   "metadata": {},
   "outputs": [
    {
     "name": "stdout",
     "output_type": "stream",
     "text": [
      "[ -1  63  33 142  59 199 173 156 198 195 185 104 100 130]\n",
      "[ 33  59 199 173 156 198 195 185 104 100 130]\n"
     ]
    }
   ],
   "source": [
    "a1D_modificado2 = np.delete(a1D_modificado, [0, 1, 3])\n",
    "print(a1D_modificado)\n",
    "print(a1D_modificado2)"
   ]
  },
  {
   "cell_type": "markdown",
   "metadata": {},
   "source": [
    "### Comparação entre arrays"
   ]
  },
  {
   "cell_type": "code",
   "execution_count": 15,
   "metadata": {},
   "outputs": [
    {
     "data": {
      "text/plain": [
       "array([False,  True, False,  True,  True])"
      ]
     },
     "execution_count": 15,
     "metadata": {},
     "output_type": "execute_result"
    }
   ],
   "source": [
    "a1D = np.array([1, 2, 3, 4, 5])\n",
    "b1D = np.array([3, 2, 1, 4, 5])\n",
    "a1D == b1D # Comparação elemento a elemento"
   ]
  },
  {
   "cell_type": "code",
   "execution_count": 16,
   "metadata": {},
   "outputs": [
    {
     "data": {
      "text/plain": [
       "array([5, 2, 1, 7, 1, 6, 8, 3, 2, 3, 1, 4, 3, 7, 5, 7, 1, 2, 2, 5])"
      ]
     },
     "execution_count": 16,
     "metadata": {},
     "output_type": "execute_result"
    }
   ],
   "source": [
    "c1D = np.random.randint(1,10,20)\n",
    "c1D"
   ]
  },
  {
   "cell_type": "code",
   "execution_count": 17,
   "metadata": {},
   "outputs": [
    {
     "data": {
      "text/plain": [
       "array([ True, False, False, False, False, False, False, False, False,\n",
       "       False, False, False, False, False,  True, False, False, False,\n",
       "       False,  True])"
      ]
     },
     "execution_count": 17,
     "metadata": {},
     "output_type": "execute_result"
    }
   ],
   "source": [
    "c1D == 5"
   ]
  },
  {
   "cell_type": "code",
   "execution_count": 18,
   "metadata": {},
   "outputs": [
    {
     "data": {
      "text/plain": [
       "array([5, 5, 5])"
      ]
     },
     "execution_count": 18,
     "metadata": {},
     "output_type": "execute_result"
    }
   ],
   "source": [
    "c1D[c1D == 5]"
   ]
  },
  {
   "cell_type": "markdown",
   "metadata": {},
   "source": [
    "### Operações entre arrays e escalares"
   ]
  },
  {
   "cell_type": "code",
   "execution_count": 19,
   "metadata": {},
   "outputs": [
    {
     "data": {
      "text/plain": [
       "array([ 1,  2,  3,  4,  5,  6,  7,  8,  9, 10])"
      ]
     },
     "execution_count": 19,
     "metadata": {},
     "output_type": "execute_result"
    }
   ],
   "source": [
    "a1D = np.arange(1,11)\n",
    "a1D"
   ]
  },
  {
   "cell_type": "code",
   "execution_count": 20,
   "metadata": {},
   "outputs": [
    {
     "data": {
      "text/plain": [
       "array([ 1,  3,  5,  7,  9, 11, 13, 15, 17, 19])"
      ]
     },
     "execution_count": 20,
     "metadata": {},
     "output_type": "execute_result"
    }
   ],
   "source": [
    "b1D = np.arange(1,20,2)\n",
    "b1D"
   ]
  },
  {
   "cell_type": "code",
   "execution_count": 21,
   "metadata": {},
   "outputs": [
    {
     "data": {
      "text/plain": [
       "array([ 2,  4,  6,  8, 10, 12, 14, 16, 18, 20])"
      ]
     },
     "execution_count": 21,
     "metadata": {},
     "output_type": "execute_result"
    }
   ],
   "source": [
    "c1D = 2 * a1D # Cada elemento de a1D será multiplicado por 2\n",
    "c1D"
   ]
  },
  {
   "cell_type": "code",
   "execution_count": 22,
   "metadata": {},
   "outputs": [
    {
     "data": {
      "text/plain": [
       "array([ 6,  8, 10, 12, 14, 16, 18, 20, 22, 24])"
      ]
     },
     "execution_count": 22,
     "metadata": {},
     "output_type": "execute_result"
    }
   ],
   "source": [
    "d1D = b1D + 5 # Soma 5 para cada elemento de b1D\n",
    "d1D"
   ]
  },
  {
   "cell_type": "code",
   "execution_count": 23,
   "metadata": {},
   "outputs": [
    {
     "data": {
      "text/plain": [
       "array([-2,  0,  2,  4,  6,  8, 10, 12, 14, 16])"
      ]
     },
     "execution_count": 23,
     "metadata": {},
     "output_type": "execute_result"
    }
   ],
   "source": [
    "e1D = b1D - 3\n",
    "e1D"
   ]
  },
  {
   "cell_type": "code",
   "execution_count": 24,
   "metadata": {},
   "outputs": [
    {
     "data": {
      "text/plain": [
       "array([0.2, 0.4, 0.6, 0.8, 1. , 1.2, 1.4, 1.6, 1.8, 2. ])"
      ]
     },
     "execution_count": 24,
     "metadata": {},
     "output_type": "execute_result"
    }
   ],
   "source": [
    "f1D = a1D / 5\n",
    "f1D"
   ]
  },
  {
   "cell_type": "code",
   "execution_count": 25,
   "metadata": {},
   "outputs": [
    {
     "data": {
      "text/plain": [
       "array([-4. , -2.2, -0.4,  1.4,  3.2,  5. ,  6.8,  8.6, 10.4, 12.2, 14. ,\n",
       "       15.8, 17.6, 19.4, 21.2, 23. , 24.8, 26.6, 28.4, 30.2, 32. , 33.8,\n",
       "       35.6, 37.4, 39.2, 41. , 42.8, 44.6, 46.4, 48.2, 50. , 51.8, 53.6,\n",
       "       55.4, 57.2, 59. , 60.8, 62.6, 64.4, 66.2, 68. , 69.8, 71.6, 73.4,\n",
       "       75.2, 77. , 78.8, 80.6, 82.4, 84.2, 86. , 87.8, 89.6, 91.4, 93.2,\n",
       "       95. ])"
      ]
     },
     "execution_count": 25,
     "metadata": {},
     "output_type": "execute_result"
    }
   ],
   "source": [
    "celsius = np.arange(-20, 36) # Cria um array com o valores de -20 a 35, representando a temperatura em graus Celsius\n",
    "fahrenheit = celsius * (9/5) + 32 # Cria um array convertendo cada valor em Celsius para fahrenheit\n",
    "\n",
    "fahrenheit"
   ]
  },
  {
   "cell_type": "code",
   "execution_count": 26,
   "metadata": {},
   "outputs": [
    {
     "name": "stdout",
     "output_type": "stream",
     "text": [
      "[ 1  2  3  4  5  6  7  8  9 10]\n",
      "[ 1  3  5  7  9 11 13 15 17 19]\n",
      "-------------------------------\n",
      "[ 2  5  8 11 14 17 20 23 26 29]\n"
     ]
    }
   ],
   "source": [
    "# Somando cada elemento de a1D a b1D\n",
    "g1D = a1D + b1D\n",
    "print(a1D)\n",
    "print(b1D)\n",
    "print(\"-\"*31)\n",
    "print(g1D)"
   ]
  },
  {
   "cell_type": "code",
   "execution_count": 27,
   "metadata": {},
   "outputs": [
    {
     "name": "stdout",
     "output_type": "stream",
     "text": [
      "[ 1  2  3  4  5  6  7  8  9 10]\n",
      "[ 1  3  5  7  9 11 13 15 17 19]\n",
      "-------------------------------\n",
      "[ 2  5  8 11 14 17 20 23 26 29]\n"
     ]
    }
   ],
   "source": [
    "# Outra forma de somar cada elemento de a1D a b1D\n",
    "h1D = np.add(a1D, b1D)\n",
    "print(a1D)\n",
    "print(b1D)\n",
    "print(\"-\"*31)\n",
    "print(h1D)"
   ]
  },
  {
   "cell_type": "code",
   "execution_count": 28,
   "metadata": {},
   "outputs": [
    {
     "name": "stdout",
     "output_type": "stream",
     "text": [
      "[ 2  5  8 11 14 17 20 23 26 29]\n",
      "[ 2  5  8 11 14 17 20 23 26 29]\n",
      "-------------------------------\n",
      "[0 0 0 0 0 0 0 0 0 0]\n"
     ]
    }
   ],
   "source": [
    "i1D = h1D - g1D\n",
    "print(h1D)\n",
    "print(g1D)\n",
    "print(\"-\"*31)\n",
    "print(i1D)"
   ]
  },
  {
   "cell_type": "code",
   "execution_count": 29,
   "metadata": {},
   "outputs": [
    {
     "name": "stdout",
     "output_type": "stream",
     "text": [
      "[ 2  5  8 11 14 17 20 23 26 29]\n",
      "[ 2  5  8 11 14 17 20 23 26 29]\n",
      "-------------------------------\n",
      "[0 0 0 0 0 0 0 0 0 0]\n"
     ]
    }
   ],
   "source": [
    "# Outra forma de somar cada elemento de a1D a b1D\n",
    "j1D = np.subtract(h1D, g1D)\n",
    "print(h1D)\n",
    "print(g1D)\n",
    "print(\"-\"*31)\n",
    "print(j1D)"
   ]
  },
  {
   "cell_type": "code",
   "execution_count": 30,
   "metadata": {},
   "outputs": [
    {
     "data": {
      "text/plain": [
       "array([1, 2, 3, 4, 5])"
      ]
     },
     "execution_count": 30,
     "metadata": {},
     "output_type": "execute_result"
    }
   ],
   "source": [
    "a1D = np.arange(1, 6)\n",
    "a1D"
   ]
  },
  {
   "cell_type": "code",
   "execution_count": 31,
   "metadata": {},
   "outputs": [
    {
     "data": {
      "text/plain": [
       "array([ 6,  7,  8,  9, 10])"
      ]
     },
     "execution_count": 31,
     "metadata": {},
     "output_type": "execute_result"
    }
   ],
   "source": [
    "b1D = np.arange(6,11)\n",
    "b1D"
   ]
  },
  {
   "cell_type": "code",
   "execution_count": 32,
   "metadata": {},
   "outputs": [
    {
     "data": {
      "text/plain": [
       "array([ 6, 14, 24, 36, 50])"
      ]
     },
     "execution_count": 32,
     "metadata": {},
     "output_type": "execute_result"
    }
   ],
   "source": [
    "c1D = a1D * b1D\n",
    "c1D"
   ]
  },
  {
   "cell_type": "code",
   "execution_count": 33,
   "metadata": {},
   "outputs": [
    {
     "data": {
      "text/plain": [
       "array([ 6, 14, 24, 36, 50])"
      ]
     },
     "execution_count": 33,
     "metadata": {},
     "output_type": "execute_result"
    }
   ],
   "source": [
    "d1D = np.multiply(a1D, b1D)\n",
    "d1D"
   ]
  },
  {
   "cell_type": "code",
   "execution_count": 34,
   "metadata": {},
   "outputs": [
    {
     "data": {
      "text/plain": [
       "array([ 6.,  7.,  8.,  9., 10.])"
      ]
     },
     "execution_count": 34,
     "metadata": {},
     "output_type": "execute_result"
    }
   ],
   "source": [
    "e1D = c1D / a1D\n",
    "e1D"
   ]
  },
  {
   "cell_type": "code",
   "execution_count": 35,
   "metadata": {},
   "outputs": [
    {
     "data": {
      "text/plain": [
       "array([ 6.,  7.,  8.,  9., 10.])"
      ]
     },
     "execution_count": 35,
     "metadata": {},
     "output_type": "execute_result"
    }
   ],
   "source": [
    "f1D = np.divide(c1D, a1D)\n",
    "f1D"
   ]
  },
  {
   "cell_type": "code",
   "execution_count": 36,
   "metadata": {},
   "outputs": [
    {
     "data": {
      "text/plain": [
       "array([1, 2, 3, 4, 5, 6, 7, 8, 9])"
      ]
     },
     "execution_count": 36,
     "metadata": {},
     "output_type": "execute_result"
    }
   ],
   "source": [
    "g1D = np.arange(1,10)\n",
    "g1D"
   ]
  },
  {
   "cell_type": "code",
   "execution_count": 37,
   "metadata": {},
   "outputs": [
    {
     "data": {
      "text/plain": [
       "array([1.        , 1.41421356, 1.73205081, 2.        , 2.23606798,\n",
       "       2.44948974, 2.64575131, 2.82842712, 3.        ])"
      ]
     },
     "execution_count": 37,
     "metadata": {},
     "output_type": "execute_result"
    }
   ],
   "source": [
    "raiz1D = np.sqrt(g1D)\n",
    "raiz1D"
   ]
  },
  {
   "cell_type": "markdown",
   "metadata": {},
   "source": [
    "### Algumas funções"
   ]
  },
  {
   "cell_type": "code",
   "execution_count": 38,
   "metadata": {},
   "outputs": [
    {
     "data": {
      "text/plain": [
       "array([[43, 16, 44, 79,  6, 85, 71, 14, 80,  3],\n",
       "       [19, 17,  5, 24, 10, 93, 71, 30, 50, 42],\n",
       "       [17, 78,  6,  5, 10, 31, 58, 18, 63, 38],\n",
       "       [59, 22, 89, 93,  5, 14, 45, 32, 26, 21],\n",
       "       [18, 65,  9, 16, 31, 33, 94, 40, 36, 88]])"
      ]
     },
     "execution_count": 38,
     "metadata": {},
     "output_type": "execute_result"
    }
   ],
   "source": [
    "d2D = np.random.randint(1, 101, (5,10)) # Array de 5 linhas x 10 colunas preenchidos com valores aleatórios entre 1 e 100\n",
    "d2D"
   ]
  },
  {
   "cell_type": "markdown",
   "metadata": {},
   "source": [
    "#### Obs: como os valores valores são gerados aleatoriamente, sua matriz provavelmente será diferente da gerada acima"
   ]
  },
  {
   "cell_type": "code",
   "execution_count": 39,
   "metadata": {},
   "outputs": [
    {
     "data": {
      "text/plain": [
       "1962"
      ]
     },
     "execution_count": 39,
     "metadata": {},
     "output_type": "execute_result"
    }
   ],
   "source": [
    "# Soma de todos os elementos\n",
    "d2D.sum()"
   ]
  },
  {
   "cell_type": "code",
   "execution_count": 40,
   "metadata": {},
   "outputs": [
    {
     "data": {
      "text/plain": [
       "array([156, 198, 153, 217,  62, 256, 339, 134, 255, 192])"
      ]
     },
     "execution_count": 40,
     "metadata": {},
     "output_type": "execute_result"
    }
   ],
   "source": [
    "# Soma de todos os elementos de cada coluna (eixo 0)\n",
    "d2D.sum(axis = 0)"
   ]
  },
  {
   "cell_type": "code",
   "execution_count": 41,
   "metadata": {},
   "outputs": [
    {
     "data": {
      "text/plain": [
       "array([441, 361, 324, 406, 430])"
      ]
     },
     "execution_count": 41,
     "metadata": {},
     "output_type": "execute_result"
    }
   ],
   "source": [
    "# Soma de todos os elementos de cada linha (eixo 1)\n",
    "d2D.sum(axis = 1)"
   ]
  },
  {
   "cell_type": "code",
   "execution_count": 42,
   "metadata": {},
   "outputs": [
    {
     "data": {
      "text/plain": [
       "array([156, 198, 153, 217,  62, 256, 339, 134, 255, 192])"
      ]
     },
     "execution_count": 42,
     "metadata": {},
     "output_type": "execute_result"
    }
   ],
   "source": [
    "somacol = sum(d2D) # A função sum() do Python retornará a soma de todas as colunas\n",
    "somacol"
   ]
  },
  {
   "cell_type": "code",
   "execution_count": 43,
   "metadata": {},
   "outputs": [
    {
     "data": {
      "text/plain": [
       "3"
      ]
     },
     "execution_count": 43,
     "metadata": {},
     "output_type": "execute_result"
    }
   ],
   "source": [
    "# Retorna o menor valor geral\n",
    "d2D.min()"
   ]
  },
  {
   "cell_type": "code",
   "execution_count": 44,
   "metadata": {},
   "outputs": [
    {
     "data": {
      "text/plain": [
       "array([17, 16,  5,  5,  5, 14, 45, 14, 26,  3])"
      ]
     },
     "execution_count": 44,
     "metadata": {},
     "output_type": "execute_result"
    }
   ],
   "source": [
    "# Retorna o menor valor de cada coluna (eixo 0)\n",
    "d2D.min(axis=0)"
   ]
  },
  {
   "cell_type": "code",
   "execution_count": 45,
   "metadata": {},
   "outputs": [
    {
     "data": {
      "text/plain": [
       "array([3, 5, 5, 5, 9])"
      ]
     },
     "execution_count": 45,
     "metadata": {},
     "output_type": "execute_result"
    }
   ],
   "source": [
    "# Retorna o menor valor de cada linha (eixo 1)\n",
    "d2D.min(axis=1)"
   ]
  },
  {
   "cell_type": "code",
   "execution_count": 46,
   "metadata": {},
   "outputs": [
    {
     "data": {
      "text/plain": [
       "94"
      ]
     },
     "execution_count": 46,
     "metadata": {},
     "output_type": "execute_result"
    }
   ],
   "source": [
    "# Retorna o maior valor geral\n",
    "d2D.max()"
   ]
  },
  {
   "cell_type": "code",
   "execution_count": 47,
   "metadata": {},
   "outputs": [
    {
     "data": {
      "text/plain": [
       "array([59, 78, 89, 93, 31, 93, 94, 40, 80, 88])"
      ]
     },
     "execution_count": 47,
     "metadata": {},
     "output_type": "execute_result"
    }
   ],
   "source": [
    "# Retorna o maior valor de cada coluna (eixo 0)\n",
    "d2D.max(axis=0)"
   ]
  },
  {
   "cell_type": "code",
   "execution_count": 48,
   "metadata": {},
   "outputs": [
    {
     "data": {
      "text/plain": [
       "array([85, 93, 78, 93, 94])"
      ]
     },
     "execution_count": 48,
     "metadata": {},
     "output_type": "execute_result"
    }
   ],
   "source": [
    "# Retorna o maior valor de cada linha (eixo 1)\n",
    "d2D.max(axis=1)"
   ]
  },
  {
   "cell_type": "code",
   "execution_count": 49,
   "metadata": {},
   "outputs": [
    {
     "data": {
      "text/plain": [
       "array([  43,   59,  103,  182,  188,  273,  344,  358,  438,  441,  460,\n",
       "        477,  482,  506,  516,  609,  680,  710,  760,  802,  819,  897,\n",
       "        903,  908,  918,  949, 1007, 1025, 1088, 1126, 1185, 1207, 1296,\n",
       "       1389, 1394, 1408, 1453, 1485, 1511, 1532, 1550, 1615, 1624, 1640,\n",
       "       1671, 1704, 1798, 1838, 1874, 1962], dtype=int32)"
      ]
     },
     "execution_count": 49,
     "metadata": {},
     "output_type": "execute_result"
    }
   ],
   "source": [
    "# Retorna a soma cumulativa\n",
    "d2D.cumsum()"
   ]
  },
  {
   "cell_type": "code",
   "execution_count": 50,
   "metadata": {},
   "outputs": [
    {
     "data": {
      "text/plain": [
       "array([[ 43,  16,  44,  79,   6,  85,  71,  14,  80,   3],\n",
       "       [ 62,  33,  49, 103,  16, 178, 142,  44, 130,  45],\n",
       "       [ 79, 111,  55, 108,  26, 209, 200,  62, 193,  83],\n",
       "       [138, 133, 144, 201,  31, 223, 245,  94, 219, 104],\n",
       "       [156, 198, 153, 217,  62, 256, 339, 134, 255, 192]], dtype=int32)"
      ]
     },
     "execution_count": 50,
     "metadata": {},
     "output_type": "execute_result"
    }
   ],
   "source": [
    "# Retorna a soma cumulativa para cada coluna (eixo = 0)\n",
    "d2D.cumsum(axis = 0)"
   ]
  },
  {
   "cell_type": "code",
   "execution_count": 51,
   "metadata": {},
   "outputs": [
    {
     "data": {
      "text/plain": [
       "array([[43, 16, 44, 79,  6, 85, 71, 14, 80,  3],\n",
       "       [19, 17,  5, 24, 10, 93, 71, 30, 50, 42],\n",
       "       [17, 78,  6,  5, 10, 31, 58, 18, 63, 38],\n",
       "       [59, 22, 89, 93,  5, 14, 45, 32, 26, 21],\n",
       "       [18, 65,  9, 16, 31, 33, 94, 40, 36, 88]])"
      ]
     },
     "execution_count": 51,
     "metadata": {},
     "output_type": "execute_result"
    }
   ],
   "source": [
    "d2D"
   ]
  },
  {
   "cell_type": "code",
   "execution_count": 52,
   "metadata": {},
   "outputs": [
    {
     "data": {
      "text/plain": [
       "array([[ 43,  59, 103, 182, 188, 273, 344, 358, 438, 441],\n",
       "       [ 19,  36,  41,  65,  75, 168, 239, 269, 319, 361],\n",
       "       [ 17,  95, 101, 106, 116, 147, 205, 223, 286, 324],\n",
       "       [ 59,  81, 170, 263, 268, 282, 327, 359, 385, 406],\n",
       "       [ 18,  83,  92, 108, 139, 172, 266, 306, 342, 430]], dtype=int32)"
      ]
     },
     "execution_count": 52,
     "metadata": {},
     "output_type": "execute_result"
    }
   ],
   "source": [
    "# Retorna a soma cumulativa para cada linha (eixo = 1)\n",
    "x = d2D.cumsum(axis = 1)\n",
    "x"
   ]
  },
  {
   "cell_type": "code",
   "execution_count": 53,
   "metadata": {},
   "outputs": [
    {
     "data": {
      "text/plain": [
       "39.24"
      ]
     },
     "execution_count": 53,
     "metadata": {},
     "output_type": "execute_result"
    }
   ],
   "source": [
    "# Retorna a média aritmética\n",
    "d2D.mean()"
   ]
  },
  {
   "cell_type": "code",
   "execution_count": 54,
   "metadata": {},
   "outputs": [
    {
     "data": {
      "text/plain": [
       "array([31.2, 39.6, 30.6, 43.4, 12.4, 51.2, 67.8, 26.8, 51. , 38.4])"
      ]
     },
     "execution_count": 54,
     "metadata": {},
     "output_type": "execute_result"
    }
   ],
   "source": [
    "# Retorna a média aritmética para cada coluna (eixo = 0)\n",
    "d2D.mean(axis = 0)"
   ]
  },
  {
   "cell_type": "code",
   "execution_count": 55,
   "metadata": {},
   "outputs": [
    {
     "data": {
      "text/plain": [
       "array([44.1, 36.1, 32.4, 40.6, 43. ])"
      ]
     },
     "execution_count": 55,
     "metadata": {},
     "output_type": "execute_result"
    }
   ],
   "source": [
    "# Retorna a média aritmética para cada linha (eixo = 1)\n",
    "d2D.mean(axis = 1)"
   ]
  },
  {
   "cell_type": "code",
   "execution_count": 56,
   "metadata": {},
   "outputs": [
    {
     "data": {
      "text/plain": [
       "28.40250693160729"
      ]
     },
     "execution_count": 56,
     "metadata": {},
     "output_type": "execute_result"
    }
   ],
   "source": [
    "# Retorna o desvio padrão\n",
    "d2D.std()"
   ]
  },
  {
   "cell_type": "code",
   "execution_count": 57,
   "metadata": {},
   "outputs": [
    {
     "data": {
      "text/plain": [
       "array([16.95169608, 26.44692799, 32.61042778, 35.57864528,  9.52050419,\n",
       "       31.66322788, 16.26530049,  9.5163018 , 19.16246331, 28.38732111])"
      ]
     },
     "execution_count": 57,
     "metadata": {},
     "output_type": "execute_result"
    }
   ],
   "source": [
    "# Retorna o desvio padrão para cada coluna (eixo = 0)\n",
    "d2D.std(axis = 0)"
   ]
  },
  {
   "cell_type": "code",
   "execution_count": 58,
   "metadata": {},
   "outputs": [
    {
     "data": {
      "text/plain": [
       "array([31.21041493, 26.78227025, 24.69493875, 29.04892425, 28.14604768])"
      ]
     },
     "execution_count": 58,
     "metadata": {},
     "output_type": "execute_result"
    }
   ],
   "source": [
    "# Retorna o desvio padrão para cada linha (eixo = 1)\n",
    "d2D.std(axis = 1)"
   ]
  },
  {
   "cell_type": "code",
   "execution_count": 59,
   "metadata": {},
   "outputs": [
    {
     "data": {
      "text/plain": [
       "31.5"
      ]
     },
     "execution_count": 59,
     "metadata": {},
     "output_type": "execute_result"
    }
   ],
   "source": [
    "# Retorna a mediana (geral)\n",
    "np.median(d2D)"
   ]
  },
  {
   "cell_type": "code",
   "execution_count": 60,
   "metadata": {},
   "outputs": [
    {
     "data": {
      "text/plain": [
       "array([19., 22.,  9., 24., 10., 33., 71., 30., 50., 38.])"
      ]
     },
     "execution_count": 60,
     "metadata": {},
     "output_type": "execute_result"
    }
   ],
   "source": [
    "# Retorna a mediana para cada coluna (eixo = 0)\n",
    "np.median(d2D, axis = 0)"
   ]
  },
  {
   "cell_type": "code",
   "execution_count": 61,
   "metadata": {},
   "outputs": [
    {
     "data": {
      "text/plain": [
       "array([43.5, 27. , 24.5, 29. , 34.5])"
      ]
     },
     "execution_count": 61,
     "metadata": {},
     "output_type": "execute_result"
    }
   ],
   "source": [
    "# Retorna a mediana para cada linha (eixo = 1)\n",
    "np.median(d2D, axis = 1)"
   ]
  },
  {
   "cell_type": "markdown",
   "metadata": {},
   "source": [
    "### Copiando e concatenando arrays"
   ]
  },
  {
   "cell_type": "code",
   "execution_count": 62,
   "metadata": {},
   "outputs": [
    {
     "data": {
      "text/plain": [
       "array([[11, 37, 42, 30, 33],\n",
       "       [21, 27,  5,  6, 34],\n",
       "       [ 6,  5, 48, 21, 12],\n",
       "       [ 7,  6, 30, 48, 18]])"
      ]
     },
     "execution_count": 62,
     "metadata": {},
     "output_type": "execute_result"
    }
   ],
   "source": [
    "a2D = np.random.randint(1,50, (4,5))\n",
    "a2D"
   ]
  },
  {
   "cell_type": "code",
   "execution_count": 63,
   "metadata": {},
   "outputs": [
    {
     "data": {
      "text/plain": [
       "array([[60, 58, 60, 78, 94],\n",
       "       [70, 66, 64, 69, 67],\n",
       "       [77, 75, 60, 74, 95],\n",
       "       [72, 72, 79, 68, 65]])"
      ]
     },
     "execution_count": 63,
     "metadata": {},
     "output_type": "execute_result"
    }
   ],
   "source": [
    "b2D = np.random.randint(50,100, (4,5))\n",
    "b2D"
   ]
  },
  {
   "cell_type": "code",
   "execution_count": 64,
   "metadata": {},
   "outputs": [
    {
     "data": {
      "text/plain": [
       "array([[11, 37, 42, 30, 33],\n",
       "       [21, 27,  5,  6, 34],\n",
       "       [ 6,  5, 48, 21, 12],\n",
       "       [ 7,  6, 30, 48, 18]])"
      ]
     },
     "execution_count": 64,
     "metadata": {},
     "output_type": "execute_result"
    }
   ],
   "source": [
    "c2D = a2D\n",
    "c2D"
   ]
  },
  {
   "cell_type": "code",
   "execution_count": 65,
   "metadata": {},
   "outputs": [
    {
     "data": {
      "text/plain": [
       "array([[-1, 37, 42, 30, 33],\n",
       "       [21, 27, -1, -1, 34],\n",
       "       [-1, -1, 48, 21, -1],\n",
       "       [-1, -1, 30, 48, -1]])"
      ]
     },
     "execution_count": 65,
     "metadata": {},
     "output_type": "execute_result"
    }
   ],
   "source": [
    "# Aparentemente ocorreu uma cópia dos arrays, mas veja o que acontece se alterarmos alguns elementos\n",
    "c2D[c2D < 20] = -1\n",
    "c2D"
   ]
  },
  {
   "cell_type": "code",
   "execution_count": 66,
   "metadata": {},
   "outputs": [
    {
     "data": {
      "text/plain": [
       "array([[-1, 37, 42, 30, 33],\n",
       "       [21, 27, -1, -1, 34],\n",
       "       [-1, -1, 48, 21, -1],\n",
       "       [-1, -1, 30, 48, -1]])"
      ]
     },
     "execution_count": 66,
     "metadata": {},
     "output_type": "execute_result"
    }
   ],
   "source": [
    "a2D "
   ]
  },
  {
   "cell_type": "markdown",
   "metadata": {},
   "source": [
    "Os elementos de a2D também foram alterados. :-("
   ]
  },
  {
   "cell_type": "code",
   "execution_count": 67,
   "metadata": {},
   "outputs": [
    {
     "data": {
      "text/plain": [
       "array([[41,  5, 21, 35, 48],\n",
       "       [46, 23, 23, 27, 17],\n",
       "       [39, 19, 34, 26, 15],\n",
       "       [12, 14, 45, 26, 15]])"
      ]
     },
     "execution_count": 67,
     "metadata": {},
     "output_type": "execute_result"
    }
   ],
   "source": [
    "# Redefinindo os elementos de a2D\n",
    "a2D = np.random.randint(1,50, (4,5))\n",
    "a2D"
   ]
  },
  {
   "cell_type": "code",
   "execution_count": 68,
   "metadata": {},
   "outputs": [
    {
     "data": {
      "text/plain": [
       "array([[41,  5, 21, 35, 48],\n",
       "       [46, 23, 23, 27, 17],\n",
       "       [39, 19, 34, 26, 15],\n",
       "       [12, 14, 45, 26, 15]])"
      ]
     },
     "execution_count": 68,
     "metadata": {},
     "output_type": "execute_result"
    }
   ],
   "source": [
    "# Forma correta de copiar um array parece que com a forma de copiar uma lista\n",
    "c2D = a2D.copy()\n",
    "c2D"
   ]
  },
  {
   "cell_type": "code",
   "execution_count": 69,
   "metadata": {},
   "outputs": [
    {
     "data": {
      "text/plain": [
       "array([[41, -1, 21, 35, 48],\n",
       "       [46, 23, 23, 27, -1],\n",
       "       [39, -1, 34, 26, -1],\n",
       "       [-1, -1, 45, 26, -1]])"
      ]
     },
     "execution_count": 69,
     "metadata": {},
     "output_type": "execute_result"
    }
   ],
   "source": [
    "c2D[c2D < 20] = -1\n",
    "c2D"
   ]
  },
  {
   "cell_type": "code",
   "execution_count": 70,
   "metadata": {},
   "outputs": [
    {
     "data": {
      "text/plain": [
       "array([[41,  5, 21, 35, 48],\n",
       "       [46, 23, 23, 27, 17],\n",
       "       [39, 19, 34, 26, 15],\n",
       "       [12, 14, 45, 26, 15]])"
      ]
     },
     "execution_count": 70,
     "metadata": {},
     "output_type": "execute_result"
    }
   ],
   "source": [
    "a2D"
   ]
  },
  {
   "cell_type": "markdown",
   "metadata": {},
   "source": [
    "Agora sim!!!"
   ]
  },
  {
   "cell_type": "markdown",
   "metadata": {},
   "source": [
    "### Ordenando os elementos de um array"
   ]
  },
  {
   "cell_type": "code",
   "execution_count": 71,
   "metadata": {},
   "outputs": [
    {
     "data": {
      "text/plain": [
       "array([20, 53, 95, 13, 89, 87, 87, 80, 16, 22, 37,  2, 90, 34, 48])"
      ]
     },
     "execution_count": 71,
     "metadata": {},
     "output_type": "execute_result"
    }
   ],
   "source": [
    "a1D = np.random.randint(1,100, 15)\n",
    "a1D"
   ]
  },
  {
   "cell_type": "code",
   "execution_count": 72,
   "metadata": {},
   "outputs": [
    {
     "data": {
      "text/plain": [
       "array([ 2, 13, 16, 20, 22, 34, 37, 48, 53, 80, 87, 87, 89, 90, 95])"
      ]
     },
     "execution_count": 72,
     "metadata": {},
     "output_type": "execute_result"
    }
   ],
   "source": [
    "a1D.sort()\n",
    "a1D"
   ]
  },
  {
   "cell_type": "code",
   "execution_count": 73,
   "metadata": {},
   "outputs": [
    {
     "data": {
      "text/plain": [
       "array([[74, 24, 94, 64, 27, 51, 13, 89, 25, 72],\n",
       "       [66, 48, 12, 14, 84, 66, 16, 68, 87, 53],\n",
       "       [41, 27, 61, 83, 31, 17, 10,  1, 12, 61],\n",
       "       [72, 20, 43, 65, 26,  9, 77, 92,  4, 87],\n",
       "       [18, 25,  3, 34, 27, 35, 66, 46,  6, 71],\n",
       "       [16,  2, 64, 59, 16, 11, 48, 79, 63, 54]])"
      ]
     },
     "execution_count": 73,
     "metadata": {},
     "output_type": "execute_result"
    }
   ],
   "source": [
    "a2D = np.random.randint(1,100, (6,10))\n",
    "a2D"
   ]
  },
  {
   "cell_type": "code",
   "execution_count": 74,
   "metadata": {},
   "outputs": [
    {
     "data": {
      "text/plain": [
       "array([[13, 24, 25, 27, 51, 64, 72, 74, 89, 94],\n",
       "       [12, 14, 16, 48, 53, 66, 66, 68, 84, 87],\n",
       "       [ 1, 10, 12, 17, 27, 31, 41, 61, 61, 83],\n",
       "       [ 4,  9, 20, 26, 43, 65, 72, 77, 87, 92],\n",
       "       [ 3,  6, 18, 25, 27, 34, 35, 46, 66, 71],\n",
       "       [ 2, 11, 16, 16, 48, 54, 59, 63, 64, 79]])"
      ]
     },
     "execution_count": 74,
     "metadata": {},
     "output_type": "execute_result"
    }
   ],
   "source": [
    "a2D.sort() # Por padrão ordena o maior eixo (nesse caso o eixo 1, linhas)\n",
    "a2D"
   ]
  },
  {
   "cell_type": "code",
   "execution_count": 75,
   "metadata": {},
   "outputs": [
    {
     "data": {
      "text/plain": [
       "array([[ 1,  6, 12, 16, 27, 31, 35, 46, 61, 71],\n",
       "       [ 2,  9, 16, 17, 27, 34, 41, 61, 64, 79],\n",
       "       [ 3, 10, 16, 25, 43, 54, 59, 63, 66, 83],\n",
       "       [ 4, 11, 18, 26, 48, 64, 66, 68, 84, 87],\n",
       "       [12, 14, 20, 27, 51, 65, 72, 74, 87, 92],\n",
       "       [13, 24, 25, 48, 53, 66, 72, 77, 89, 94]])"
      ]
     },
     "execution_count": 75,
     "metadata": {},
     "output_type": "execute_result"
    }
   ],
   "source": [
    "a2D.sort(axis=0) # Ordenando pelo eixo 0 (colunas)\n",
    "a2D"
   ]
  },
  {
   "cell_type": "code",
   "execution_count": 76,
   "metadata": {},
   "outputs": [
    {
     "data": {
      "text/plain": [
       "array([[30, 96,  4, 79, 24, 94, 21, 98, 63, 50],\n",
       "       [82, 86,  9, 24, 65, 12, 63, 63, 74, 59],\n",
       "       [48, 58, 92,  9, 66, 61, 28, 58, 83, 67],\n",
       "       [13,  2,  1, 17, 96, 57, 94, 30, 16, 44],\n",
       "       [18, 54, 91, 54, 13, 84, 99, 57, 20, 92],\n",
       "       [84, 23,  5, 44, 75, 48, 74, 23, 20, 12]])"
      ]
     },
     "execution_count": 76,
     "metadata": {},
     "output_type": "execute_result"
    }
   ],
   "source": [
    "a2D = np.random.randint(1,100, (6,10))\n",
    "a2D"
   ]
  },
  {
   "cell_type": "code",
   "execution_count": 77,
   "metadata": {},
   "outputs": [
    {
     "data": {
      "text/plain": [
       "array([[ 4, 21, 24, 30, 50, 63, 79, 94, 96, 98],\n",
       "       [ 9, 12, 24, 59, 63, 63, 65, 74, 82, 86],\n",
       "       [ 9, 28, 48, 58, 58, 61, 66, 67, 83, 92],\n",
       "       [ 1,  2, 13, 16, 17, 30, 44, 57, 94, 96],\n",
       "       [13, 18, 20, 54, 54, 57, 84, 91, 92, 99],\n",
       "       [ 5, 12, 20, 23, 23, 44, 48, 74, 75, 84]])"
      ]
     },
     "execution_count": 77,
     "metadata": {},
     "output_type": "execute_result"
    }
   ],
   "source": [
    "a2D.sort(axis=1) # Ordenando pelo eixo 1 (linhas)\n",
    "a2D"
   ]
  },
  {
   "cell_type": "markdown",
   "metadata": {},
   "source": [
    "### Transposição de arrays"
   ]
  },
  {
   "cell_type": "code",
   "execution_count": 78,
   "metadata": {},
   "outputs": [
    {
     "data": {
      "text/plain": [
       "array([[1, 2, 3, 4],\n",
       "       [5, 6, 7, 8]])"
      ]
     },
     "execution_count": 78,
     "metadata": {},
     "output_type": "execute_result"
    }
   ],
   "source": [
    "a2D = np.array([[1,2,3,4],[5,6,7,8]])\n",
    "a2D"
   ]
  },
  {
   "cell_type": "code",
   "execution_count": 79,
   "metadata": {},
   "outputs": [
    {
     "data": {
      "text/plain": [
       "array([[1, 5],\n",
       "       [2, 6],\n",
       "       [3, 7],\n",
       "       [4, 8]])"
      ]
     },
     "execution_count": 79,
     "metadata": {},
     "output_type": "execute_result"
    }
   ],
   "source": [
    "a2DT = a2D.T # Retorna a transposta\n",
    "a2DT"
   ]
  },
  {
   "cell_type": "code",
   "execution_count": 80,
   "metadata": {},
   "outputs": [
    {
     "data": {
      "text/plain": [
       "array([[1, 2, 3, 4],\n",
       "       [5, 6, 7, 8]])"
      ]
     },
     "execution_count": 80,
     "metadata": {},
     "output_type": "execute_result"
    }
   ],
   "source": [
    "a2D # a2D original não foi transposto"
   ]
  },
  {
   "cell_type": "code",
   "execution_count": 81,
   "metadata": {},
   "outputs": [
    {
     "data": {
      "text/plain": [
       "array([[1, 5],\n",
       "       [2, 6],\n",
       "       [3, 7],\n",
       "       [4, 8]])"
      ]
     },
     "execution_count": 81,
     "metadata": {},
     "output_type": "execute_result"
    }
   ],
   "source": [
    "a2D.transpose() # Retorna a transposta"
   ]
  },
  {
   "cell_type": "code",
   "execution_count": 82,
   "metadata": {},
   "outputs": [
    {
     "data": {
      "text/plain": [
       "array([[1, 2, 3, 4],\n",
       "       [5, 6, 7, 8]])"
      ]
     },
     "execution_count": 82,
     "metadata": {},
     "output_type": "execute_result"
    }
   ],
   "source": [
    "a2D # a2D original não foi transposto"
   ]
  },
  {
   "cell_type": "markdown",
   "metadata": {},
   "source": [
    "### Mudando o formato de um array - reshape()"
   ]
  },
  {
   "cell_type": "code",
   "execution_count": 83,
   "metadata": {},
   "outputs": [
    {
     "data": {
      "text/plain": [
       "array([ 1,  2,  3,  4,  5,  6,  7,  8,  9, 10, 11, 12, 13, 14, 15, 16, 17,\n",
       "       18, 19, 20, 21, 22, 23, 24])"
      ]
     },
     "execution_count": 83,
     "metadata": {},
     "output_type": "execute_result"
    }
   ],
   "source": [
    "a1D = np.arange(1,25)\n",
    "a1D"
   ]
  },
  {
   "cell_type": "code",
   "execution_count": 84,
   "metadata": {},
   "outputs": [
    {
     "name": "stdout",
     "output_type": "stream",
     "text": [
      "(24,)\n",
      "(2, 12)\n",
      "[[ 1  2  3  4  5  6  7  8  9 10 11 12]\n",
      " [13 14 15 16 17 18 19 20 21 22 23 24]]\n"
     ]
    }
   ],
   "source": [
    "print(a1D.shape)\n",
    "a1D.shape = (2,12)\n",
    "print(a1D.shape)\n",
    "print(a1D)"
   ]
  },
  {
   "cell_type": "code",
   "execution_count": 85,
   "metadata": {},
   "outputs": [
    {
     "data": {
      "text/plain": [
       "array([[ 1,  2,  3,  4,  5,  6],\n",
       "       [ 7,  8,  9, 10, 11, 12],\n",
       "       [13, 14, 15, 16, 17, 18],\n",
       "       [19, 20, 21, 22, 23, 24]])"
      ]
     },
     "execution_count": 85,
     "metadata": {},
     "output_type": "execute_result"
    }
   ],
   "source": [
    "a2D_4x6 = a1D.reshape(4,6)\n",
    "a2D_4x6"
   ]
  },
  {
   "cell_type": "code",
   "execution_count": 86,
   "metadata": {},
   "outputs": [
    {
     "data": {
      "text/plain": [
       "array([[ 1,  2,  3,  4,  5,  6,  7,  8,  9, 10, 11, 12],\n",
       "       [13, 14, 15, 16, 17, 18, 19, 20, 21, 22, 23, 24]])"
      ]
     },
     "execution_count": 86,
     "metadata": {},
     "output_type": "execute_result"
    }
   ],
   "source": [
    "a1D"
   ]
  },
  {
   "cell_type": "code",
   "execution_count": 87,
   "metadata": {},
   "outputs": [
    {
     "data": {
      "text/plain": [
       "array([[ 1,  2,  3,  4,  5,  6,  7,  8],\n",
       "       [ 9, 10, 11, 12, 13, 14, 15, 16],\n",
       "       [17, 18, 19, 20, 21, 22, 23, 24]])"
      ]
     },
     "execution_count": 87,
     "metadata": {},
     "output_type": "execute_result"
    }
   ],
   "source": [
    "a2D_3x8 = a1D.reshape(3,8)\n",
    "a2D_3x8"
   ]
  },
  {
   "cell_type": "markdown",
   "metadata": {},
   "source": [
    "### Linearização de um array"
   ]
  },
  {
   "cell_type": "code",
   "execution_count": 88,
   "metadata": {},
   "outputs": [
    {
     "data": {
      "text/plain": [
       "array([ 1,  2,  3,  4,  5,  6,  7,  8,  9, 10, 11, 12, 13, 14, 15, 16, 17,\n",
       "       18, 19, 20, 21, 22, 23, 24])"
      ]
     },
     "execution_count": 88,
     "metadata": {},
     "output_type": "execute_result"
    }
   ],
   "source": [
    "x = a2D_3x8.flatten()\n",
    "x"
   ]
  },
  {
   "cell_type": "code",
   "execution_count": 89,
   "metadata": {},
   "outputs": [
    {
     "data": {
      "text/plain": [
       "array([ 1,  2,  3,  4,  5,  6,  7,  8,  9, 10, 11, 12, 13, 14, 15, 16, 17,\n",
       "       18, 19, 20, 21, 22, 23, 24])"
      ]
     },
     "execution_count": 89,
     "metadata": {},
     "output_type": "execute_result"
    }
   ],
   "source": [
    "y = a2D_3x8.ravel()\n",
    "y"
   ]
  },
  {
   "cell_type": "markdown",
   "metadata": {},
   "source": [
    "### Combinando/concatenando arrays"
   ]
  },
  {
   "cell_type": "code",
   "execution_count": 90,
   "metadata": {},
   "outputs": [
    {
     "data": {
      "text/plain": [
       "array([[91, 39, 99, 80, 59, 54, 77, 62,  6],\n",
       "       [ 6, 88, 31, 68, 53, 66, 40, 58,  2],\n",
       "       [93, 99, 70, 80, 34, 11, 20, 22, 66]])"
      ]
     },
     "execution_count": 90,
     "metadata": {},
     "output_type": "execute_result"
    }
   ],
   "source": [
    "a2D = np.random.randint(1,101,(3,9))\n",
    "a2D"
   ]
  },
  {
   "cell_type": "code",
   "execution_count": 91,
   "metadata": {},
   "outputs": [
    {
     "data": {
      "text/plain": [
       "array([[48, 49, 42, 85, 83, 90, 50, 44, 24],\n",
       "       [89, 24, 47, 88,  3, 49, 58, 98, 98],\n",
       "       [61,  5, 15, 10, 47, 97, 77,  8, 16],\n",
       "       [32, 22, 55, 29, 45,  1, 63, 21, 78],\n",
       "       [69, 63, 77, 42, 25, 74,  6,  6, 66]])"
      ]
     },
     "execution_count": 91,
     "metadata": {},
     "output_type": "execute_result"
    }
   ],
   "source": [
    "b2D = np.random.randint(1,101,(5,9))\n",
    "b2D"
   ]
  },
  {
   "cell_type": "code",
   "execution_count": 92,
   "metadata": {},
   "outputs": [
    {
     "data": {
      "text/plain": [
       "array([[ 82,   2,   6,   9],\n",
       "       [ 21,   9,  73,  71],\n",
       "       [ 59,   8,  20,  79],\n",
       "       [ 56,  77,  75,  54],\n",
       "       [ 68,  13,  63, 100]])"
      ]
     },
     "execution_count": 92,
     "metadata": {},
     "output_type": "execute_result"
    }
   ],
   "source": [
    "c2D = np.random.randint(1,101,(5,4))\n",
    "c2D"
   ]
  },
  {
   "cell_type": "code",
   "execution_count": 93,
   "metadata": {},
   "outputs": [
    {
     "data": {
      "text/plain": [
       "'Python & Numpy'"
      ]
     },
     "execution_count": 93,
     "metadata": {},
     "output_type": "execute_result"
    }
   ],
   "source": [
    "# Concatenação de strings usa o operador \"+\"\n",
    "str1 = \"Python\"\n",
    "str2 = \" & \"\n",
    "str3 = \"Numpy\"\n",
    "str4 = str1 + str2 + str3\n",
    "str4"
   ]
  },
  {
   "cell_type": "code",
   "execution_count": 94,
   "metadata": {},
   "outputs": [
    {
     "ename": "ValueError",
     "evalue": "operands could not be broadcast together with shapes (3,9) (5,9) ",
     "output_type": "error",
     "traceback": [
      "\u001b[1;31m---------------------------------------------------------------------------\u001b[0m",
      "\u001b[1;31mValueError\u001b[0m                                Traceback (most recent call last)",
      "\u001b[1;32m<ipython-input-94-74910d117a42>\u001b[0m in \u001b[0;36m<module>\u001b[1;34m\u001b[0m\n\u001b[0;32m      1\u001b[0m \u001b[1;31m# O operador \"+\" aplicado a ndarrays não faz a concatenação, mas tentar somar elemento a elemento\u001b[0m\u001b[1;33m\u001b[0m\u001b[1;33m\u001b[0m\u001b[1;33m\u001b[0m\u001b[0m\n\u001b[1;32m----> 2\u001b[1;33m \u001b[0ma2D\u001b[0m \u001b[1;33m+\u001b[0m \u001b[0mb2D\u001b[0m\u001b[1;33m\u001b[0m\u001b[1;33m\u001b[0m\u001b[0m\n\u001b[0m",
      "\u001b[1;31mValueError\u001b[0m: operands could not be broadcast together with shapes (3,9) (5,9) "
     ]
    }
   ],
   "source": [
    "# O operador \"+\" aplicado a ndarrays não faz a concatenação, mas tentar somar elemento a elemento\n",
    "a2D + b2D"
   ]
  },
  {
   "cell_type": "code",
   "execution_count": 95,
   "metadata": {},
   "outputs": [
    {
     "name": "stdout",
     "output_type": "stream",
     "text": [
      "a2D\n",
      "[[91 39 99 80 59 54 77 62  6]\n",
      " [ 6 88 31 68 53 66 40 58  2]\n",
      " [93 99 70 80 34 11 20 22 66]]\n",
      "\n",
      "b2D\n",
      "[[48 49 42 85 83 90 50 44 24]\n",
      " [89 24 47 88  3 49 58 98 98]\n",
      " [61  5 15 10 47 97 77  8 16]\n",
      " [32 22 55 29 45  1 63 21 78]\n",
      " [69 63 77 42 25 74  6  6 66]]\n",
      "\n",
      "Concatenação\n",
      "[[91 39 99 80 59 54 77 62  6]\n",
      " [ 6 88 31 68 53 66 40 58  2]\n",
      " [93 99 70 80 34 11 20 22 66]\n",
      " [48 49 42 85 83 90 50 44 24]\n",
      " [89 24 47 88  3 49 58 98 98]\n",
      " [61  5 15 10 47 97 77  8 16]\n",
      " [32 22 55 29 45  1 63 21 78]\n",
      " [69 63 77 42 25 74  6  6 66]]\n"
     ]
    }
   ],
   "source": [
    "A = np.concatenate((a2D, b2D), axis = 0) # Concatenando pelo eixo das colunas (eixo 0) (empilhamento vertical) \n",
    "print(\"a2D\")\n",
    "print(a2D)\n",
    "print(\"\")\n",
    "print(\"b2D\")\n",
    "print(b2D)\n",
    "print(\"\")\n",
    "print(\"Concatenação\")\n",
    "print(A)"
   ]
  },
  {
   "cell_type": "code",
   "execution_count": 96,
   "metadata": {},
   "outputs": [
    {
     "name": "stdout",
     "output_type": "stream",
     "text": [
      "a2D\n",
      "[[91 39 99 80 59 54 77 62  6]\n",
      " [ 6 88 31 68 53 66 40 58  2]\n",
      " [93 99 70 80 34 11 20 22 66]]\n",
      "\n",
      "b2D\n",
      "[[48 49 42 85 83 90 50 44 24]\n",
      " [89 24 47 88  3 49 58 98 98]\n",
      " [61  5 15 10 47 97 77  8 16]\n",
      " [32 22 55 29 45  1 63 21 78]\n",
      " [69 63 77 42 25 74  6  6 66]]\n",
      "\n",
      "Concatenação\n",
      "[[91 39 99 80 59 54 77 62  6]\n",
      " [ 6 88 31 68 53 66 40 58  2]\n",
      " [93 99 70 80 34 11 20 22 66]\n",
      " [48 49 42 85 83 90 50 44 24]\n",
      " [89 24 47 88  3 49 58 98 98]\n",
      " [61  5 15 10 47 97 77  8 16]\n",
      " [32 22 55 29 45  1 63 21 78]\n",
      " [69 63 77 42 25 74  6  6 66]]\n"
     ]
    }
   ],
   "source": [
    "B = np.vstack((a2D, b2D)) # Concatenando pelo eixo das colunas (eixo 0) (empilhamento vertical) \n",
    "print(\"a2D\")\n",
    "print(a2D)\n",
    "print(\"\")\n",
    "print(\"b2D\")\n",
    "print(b2D)\n",
    "print(\"\")\n",
    "print(\"Concatenação\")\n",
    "print(B)"
   ]
  },
  {
   "cell_type": "code",
   "execution_count": 97,
   "metadata": {},
   "outputs": [
    {
     "name": "stdout",
     "output_type": "stream",
     "text": [
      "b2D\n",
      "[[48 49 42 85 83 90 50 44 24]\n",
      " [89 24 47 88  3 49 58 98 98]\n",
      " [61  5 15 10 47 97 77  8 16]\n",
      " [32 22 55 29 45  1 63 21 78]\n",
      " [69 63 77 42 25 74  6  6 66]]\n",
      "\n",
      "c2D\n",
      "[[ 82   2   6   9]\n",
      " [ 21   9  73  71]\n",
      " [ 59   8  20  79]\n",
      " [ 56  77  75  54]\n",
      " [ 68  13  63 100]]\n",
      "\n",
      "Concatenação\n",
      "[[ 48  49  42  85  83  90  50  44  24  82   2   6   9]\n",
      " [ 89  24  47  88   3  49  58  98  98  21   9  73  71]\n",
      " [ 61   5  15  10  47  97  77   8  16  59   8  20  79]\n",
      " [ 32  22  55  29  45   1  63  21  78  56  77  75  54]\n",
      " [ 69  63  77  42  25  74   6   6  66  68  13  63 100]]\n"
     ]
    }
   ],
   "source": [
    "C = np.concatenate((b2D, c2D), axis = 1) # Concatenando pelo eixo das linhas (eixo 1) (empilhamento horizontal) \n",
    "print(\"b2D\")\n",
    "print(b2D)\n",
    "print(\"\")\n",
    "print(\"c2D\")\n",
    "print(c2D)\n",
    "print(\"\")\n",
    "print(\"Concatenação\")\n",
    "print(C)"
   ]
  },
  {
   "cell_type": "code",
   "execution_count": 98,
   "metadata": {},
   "outputs": [
    {
     "name": "stdout",
     "output_type": "stream",
     "text": [
      "b2D\n",
      "[[48 49 42 85 83 90 50 44 24]\n",
      " [89 24 47 88  3 49 58 98 98]\n",
      " [61  5 15 10 47 97 77  8 16]\n",
      " [32 22 55 29 45  1 63 21 78]\n",
      " [69 63 77 42 25 74  6  6 66]]\n",
      "\n",
      "c2D\n",
      "[[ 82   2   6   9]\n",
      " [ 21   9  73  71]\n",
      " [ 59   8  20  79]\n",
      " [ 56  77  75  54]\n",
      " [ 68  13  63 100]]\n",
      "\n",
      "Concatenação\n",
      "[[ 48  49  42  85  83  90  50  44  24  82   2   6   9]\n",
      " [ 89  24  47  88   3  49  58  98  98  21   9  73  71]\n",
      " [ 61   5  15  10  47  97  77   8  16  59   8  20  79]\n",
      " [ 32  22  55  29  45   1  63  21  78  56  77  75  54]\n",
      " [ 69  63  77  42  25  74   6   6  66  68  13  63 100]]\n"
     ]
    }
   ],
   "source": [
    "D = np.hstack((b2D, c2D)) # Concatenando pelo eixo das linhas (eixo 1) (empilhamento horizontal) \n",
    "print(\"b2D\")\n",
    "print(b2D)\n",
    "print(\"\")\n",
    "print(\"c2D\")\n",
    "print(c2D)\n",
    "print(\"\")\n",
    "print(\"Concatenação\")\n",
    "print(D)"
   ]
  },
  {
   "cell_type": "markdown",
   "metadata": {},
   "source": [
    "### Dividindo arrays"
   ]
  },
  {
   "cell_type": "code",
   "execution_count": 100,
   "metadata": {},
   "outputs": [
    {
     "name": "stdout",
     "output_type": "stream",
     "text": [
      "Array original\n",
      "[[91 39 99 80 59 54 77 62  6]\n",
      " [ 6 88 31 68 53 66 40 58  2]\n",
      " [93 99 70 80 34 11 20 22 66]\n",
      " [48 49 42 85 83 90 50 44 24]\n",
      " [89 24 47 88  3 49 58 98 98]\n",
      " [61  5 15 10 47 97 77  8 16]\n",
      " [32 22 55 29 45  1 63 21 78]\n",
      " [69 63 77 42 25 74  6  6 66]]\n",
      "\n",
      "1a parte\n",
      "[[91 39 99 80 59 54 77 62  6]\n",
      " [ 6 88 31 68 53 66 40 58  2]\n",
      " [93 99 70 80 34 11 20 22 66]\n",
      " [48 49 42 85 83 90 50 44 24]]\n",
      "\n",
      "2a parte\n",
      "[[89 24 47 88  3 49 58 98 98]\n",
      " [61  5 15 10 47 97 77  8 16]\n",
      " [32 22 55 29 45  1 63 21 78]\n",
      " [69 63 77 42 25 74  6  6 66]]\n"
     ]
    }
   ],
   "source": [
    "A_splitted = np.vsplit(A,2) # Divisáo vertical (corta no sentido das colunas)\n",
    "print(\"Array original\")\n",
    "print(A)\n",
    "print(\"\")\n",
    "print(\"1a parte\")\n",
    "print(A_splitted[0])\n",
    "print(\"\")\n",
    "print(\"2a parte\")\n",
    "print(A_splitted[1])"
   ]
  },
  {
   "cell_type": "code",
   "execution_count": 101,
   "metadata": {},
   "outputs": [
    {
     "name": "stdout",
     "output_type": "stream",
     "text": [
      "Array original\n",
      "[[91 39 99 80 59 54 77 62  6]\n",
      " [ 6 88 31 68 53 66 40 58  2]\n",
      " [93 99 70 80 34 11 20 22 66]\n",
      " [48 49 42 85 83 90 50 44 24]\n",
      " [89 24 47 88  3 49 58 98 98]\n",
      " [61  5 15 10 47 97 77  8 16]\n",
      " [32 22 55 29 45  1 63 21 78]\n",
      " [69 63 77 42 25 74  6  6 66]]\n",
      "\n",
      "1a parte\n",
      "[[91 39 99]\n",
      " [ 6 88 31]\n",
      " [93 99 70]\n",
      " [48 49 42]\n",
      " [89 24 47]\n",
      " [61  5 15]\n",
      " [32 22 55]\n",
      " [69 63 77]]\n",
      "\n",
      "2a parte\n",
      "[[80 59 54]\n",
      " [68 53 66]\n",
      " [80 34 11]\n",
      " [85 83 90]\n",
      " [88  3 49]\n",
      " [10 47 97]\n",
      " [29 45  1]\n",
      " [42 25 74]]\n",
      "\n",
      "3a parte\n",
      "[[77 62  6]\n",
      " [40 58  2]\n",
      " [20 22 66]\n",
      " [50 44 24]\n",
      " [58 98 98]\n",
      " [77  8 16]\n",
      " [63 21 78]\n",
      " [ 6  6 66]]\n"
     ]
    }
   ],
   "source": [
    "A_splitted3 = np.hsplit(A,3) # Divisão horizontal (corta no sentido das linhas)\n",
    "print(\"Array original\")\n",
    "print(A)\n",
    "print(\"\")\n",
    "print(\"1a parte\")\n",
    "print(A_splitted3[0])\n",
    "print(\"\")\n",
    "print(\"2a parte\")\n",
    "print(A_splitted3[1])\n",
    "print(\"\")\n",
    "print(\"3a parte\")\n",
    "print(A_splitted3[2])"
   ]
  },
  {
   "cell_type": "code",
   "execution_count": null,
   "metadata": {
    "collapsed": true,
    "jupyter": {
     "outputs_hidden": true
    }
   },
   "outputs": [],
   "source": []
  }
 ],
 "metadata": {
  "kernelspec": {
   "display_name": "Python 3",
   "language": "python",
   "name": "python3"
  },
  "language_info": {
   "codemirror_mode": {
    "name": "ipython",
    "version": 3
   },
   "file_extension": ".py",
   "mimetype": "text/x-python",
   "name": "python",
   "nbconvert_exporter": "python",
   "pygments_lexer": "ipython3",
   "version": "3.8.3"
  }
 },
 "nbformat": 4,
 "nbformat_minor": 4
}
